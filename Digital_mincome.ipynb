{
 "cells": [
  {
   "cell_type": "code",
   "execution_count": 1,
   "metadata": {},
   "outputs": [],
   "source": [
    "import matplotlib.pyplot as plt\n",
    "import numpy as np\n",
    "import math\n",
    "import pandas as pd\n",
    "import mpld3\n",
    "from mpld3 import plugins\n",
    "np.random.seed(9615)"
   ]
  },
  {
   "cell_type": "code",
   "execution_count": 2,
   "metadata": {},
   "outputs": [],
   "source": [
    "#Inputs\n",
    "Initial_Number_Users=10000\n",
    "Final_Number_Users=100000\n",
    "Avg_Nb_Transaction=100000\n",
    "Avg_Amount_Transaction=100"
   ]
  },
  {
   "cell_type": "code",
   "execution_count": 3,
   "metadata": {},
   "outputs": [],
   "source": [
    "#Variables\n",
    "\n",
    "Tranaction_fee=0.01 #1%\n",
    "Defi_prop=0.5       #50%"
   ]
  },
  {
   "cell_type": "code",
   "execution_count": 4,
   "metadata": {},
   "outputs": [],
   "source": [
    "#Hypothesis\n",
    "\n",
    "defi_return = 0.07  #7%\n",
    "fund_return = 0.15  #15% = multiple of invested capital of 2.5 in 10 years"
   ]
  },
  {
   "cell_type": "code",
   "execution_count": 5,
   "metadata": {},
   "outputs": [],
   "source": [
    "days = np.linspace(1, 3650, 3650)\n",
    "days_sigmoid = np.linspace(-10, 10, 3650)\n",
    "sigmoid = 1/(1 + np.exp(-days_sigmoid))\n",
    "Number_Users = Initial_Number_Users + Final_Number_Users*sigmoid"
   ]
  },
  {
   "cell_type": "code",
   "execution_count": 6,
   "metadata": {},
   "outputs": [
    {
     "data": {
      "text/plain": [
       "Text(0, 0.5, 'Number of Users')"
      ]
     },
     "execution_count": 6,
     "metadata": {},
     "output_type": "execute_result"
    },
    {
     "data": {
      "image/png": "[encoded data removed]",
      "text/plain": [
       "<Figure size 432x288 with 1 Axes>"
      ]
     },
     "metadata": {
      "needs_background": "light"
     },
     "output_type": "display_data"
    }
   ],
   "source": [
    "plt.plot(days,Number_Users)\n",
    "plt.xlabel(\"Days\")\n",
    "plt.ylabel(\"Number of Users\")"
   ]
  },
  {
   "cell_type": "code",
   "execution_count": 7,
   "metadata": {},
   "outputs": [],
   "source": [
    "Amount=Number_Users*Avg_Nb_Transaction*Avg_Amount_Transaction\n",
    "Defi_inv=Amount*Defi_prop\n",
    "Fund_inv=Amount*(1-Defi_prop)"
   ]
  },
  {
   "cell_type": "code",
   "execution_count": 8,
   "metadata": {},
   "outputs": [],
   "source": [
    "Delta_Defi_inv=np.concatenate((np.array([0]),np.diff(Defi_inv)))\n",
    "defi_return_amount=Defi_inv*defi_return/365\n"
   ]
  }
 ],
 "metadata": {
  "interpreter": {
   "hash": "7e92ad4b78012c01c039e1cf7f6b87a1a089dca5a03d92aa3833ef0a4571632e"
  },
  "kernelspec": {
   "display_name": "Python 3",
   "language": "python",
   "name": "python3"
  },
  "language_info": {
   "codemirror_mode": {
    "name": "ipython",
    "version": 3
   },
   "file_extension": ".py",
   "mimetype": "text/x-python",
   "name": "python",
   "nbconvert_exporter": "python",
   "pygments_lexer": "ipython3",
   "version": "3.8.5"
  },
  "toc": {
   "base_numbering": 1,
   "nav_menu": {},
   "number_sections": false,
   "sideBar": true,
   "skip_h1_title": false,
   "title_cell": "Table of Contents",
   "title_sidebar": "Contents",
   "toc_cell": false,
   "toc_position": {},
   "toc_section_display": true,
   "toc_window_display": true
  }
 },
 "nbformat": 4,
 "nbformat_minor": 5
}