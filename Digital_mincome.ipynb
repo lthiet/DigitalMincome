{
 "cells": [
  {
   "cell_type": "code",
<<<<<<< HEAD
   "execution_count": 50,
   "id": "electrical-importance",
=======
   "execution_count": 1,
>>>>>>> c9a0e578cab5e5983b896d9264515fd9e23c2a22
   "metadata": {},
   "outputs": [],
   "source": [
    "import matplotlib.pyplot as plt\n",
    "import numpy as np\n",
    "import math\n",
    "import pandas as pd\n",
    "import mpld3\n",
    "from mpld3 import plugins\n",
    "np.random.seed(9615)"
   ]
  },
  {
   "cell_type": "code",
<<<<<<< HEAD
   "execution_count": 67,
   "id": "oriental-abortion",
=======
   "execution_count": 2,
>>>>>>> c9a0e578cab5e5983b896d9264515fd9e23c2a22
   "metadata": {},
   "outputs": [],
   "source": [
    "#Inputs\n",
    "Initial_Number_Users=10000\n",
    "Final_Number_Users=100000\n",
    "Avg_Nb_Transaction=100000\n",
    "Avg_Amount_Transaction=100\n",
    "Time=12  #years\n",
    "Growth_model=\"sigmoid\"  #or linerar\n"
   ]
  },
  {
   "cell_type": "code",
<<<<<<< HEAD
   "execution_count": 68,
   "id": "logical-bottom",
=======
   "execution_count": 3,
>>>>>>> c9a0e578cab5e5983b896d9264515fd9e23c2a22
   "metadata": {},
   "outputs": [],
   "source": [
    "#Variables\n",
    "\n",
    "Tranaction_fee=0.01 #1%\n",
    "Defi_prop=0.5       #50%"
   ]
  },
  {
   "cell_type": "code",
<<<<<<< HEAD
   "execution_count": 69,
   "id": "statewide-hawaii",
=======
   "execution_count": 4,
>>>>>>> c9a0e578cab5e5983b896d9264515fd9e23c2a22
   "metadata": {},
   "outputs": [],
   "source": [
    "#Hypothesis\n",
    "\n",
    "defi_return = 0.07  #7%\n",
    "fund_return = 0.15  #15% = multiple of invested capital of 2.5 in 10 years"
   ]
  },
  {
   "cell_type": "code",
<<<<<<< HEAD
   "execution_count": 70,
   "id": "exclusive-cable",
=======
   "execution_count": 5,
>>>>>>> c9a0e578cab5e5983b896d9264515fd9e23c2a22
   "metadata": {},
   "outputs": [],
   "source": [
    "nb_days=365*Time\n",
    "days = np.linspace(1, nb_days, nb_days)\n",
    "\n",
    "days_sigmoid = np.linspace(-10, 10, nb_days)\n",
    "sigmoid = 1/(1 + np.exp(-days_sigmoid))\n",
    "\n",
    "if Growth_model==\"sigmoid\":\n",
    "    Number_Users = Initial_Number_Users + Final_Number_Users*sigmoid\n",
    "else:\n",
    "    Number_Users = Initial_Number_Users + days*(Final_Number_Users-Initial_Number_Users)/nb_days"
   ]
  },
  {
   "cell_type": "code",
<<<<<<< HEAD
   "execution_count": 71,
   "id": "oriented-developer",
=======
   "execution_count": 6,
>>>>>>> c9a0e578cab5e5983b896d9264515fd9e23c2a22
   "metadata": {},
   "outputs": [
    {
     "data": {
      "text/plain": [
       "Text(0, 0.5, 'Number of Users')"
      ]
     },
     "execution_count": 71,
     "metadata": {},
     "output_type": "execute_result"
    },
    {
     "data": {
      "image/png": "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\n",
      "text/plain": [
       "<Figure size 432x288 with 1 Axes>"
      ]
     },
     "metadata": {
      "needs_background": "light"
     },
     "output_type": "display_data"
    }
   ],
   "source": [
    "plt.plot(days,Number_Users)\n",
    "plt.xlabel(\"Days\")\n",
    "plt.ylabel(\"Number of Users\")"
   ]
  },
  {
   "cell_type": "code",
<<<<<<< HEAD
   "execution_count": 72,
   "id": "stock-minister",
=======
   "execution_count": 7,
>>>>>>> c9a0e578cab5e5983b896d9264515fd9e23c2a22
   "metadata": {},
   "outputs": [],
   "source": [
    "Amount=Number_Users*Avg_Nb_Transaction*Avg_Amount_Transaction\n",
    "Defi_inv=Amount*Defi_prop\n",
    "Fund_inv=Amount*(1-Defi_prop)"
   ]
  },
  {
   "cell_type": "code",
<<<<<<< HEAD
   "execution_count": 73,
   "id": "informal-asian",
=======
   "execution_count": 8,
>>>>>>> c9a0e578cab5e5983b896d9264515fd9e23c2a22
   "metadata": {},
   "outputs": [],
   "source": [
    "Delta_Defi_inv=np.concatenate((np.array([0]),np.diff(Defi_inv)))\n",
    "defi_return_amount=Defi_inv*defi_return/365\n"
   ]
  },
  {
   "cell_type": "code",
   "execution_count": null,
   "id": "blond-macintosh",
   "metadata": {},
   "outputs": [],
   "source": []
  }
 ],
 "metadata": {
  "interpreter": {
   "hash": "7e92ad4b78012c01c039e1cf7f6b87a1a089dca5a03d92aa3833ef0a4571632e"
  },
  "kernelspec": {
   "display_name": "DSFB",
   "language": "python",
   "name": "dsfb"
  },
  "language_info": {
   "codemirror_mode": {
    "name": "ipython",
    "version": 3
   },
   "file_extension": ".py",
   "mimetype": "text/x-python",
   "name": "python",
   "nbconvert_exporter": "python",
   "pygments_lexer": "ipython3",
   "version": "3.6.9"
  },
  "toc": {
   "base_numbering": 1,
   "nav_menu": {},
   "number_sections": false,
   "sideBar": true,
   "skip_h1_title": false,
   "title_cell": "Table of Contents",
   "title_sidebar": "Contents",
   "toc_cell": false,
   "toc_position": {},
   "toc_section_display": true,
   "toc_window_display": true
  }
 },
 "nbformat": 4,
 "nbformat_minor": 5
}