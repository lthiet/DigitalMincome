{
 "cells": [
  {
   "cell_type": "code",
   "execution_count": 27,
   "id": "forbidden-twist",
   "metadata": {},
   "outputs": [],
   "source": [
    "import matplotlib.pyplot as plt\n",
    "import numpy as np\n",
    "import math\n",
    "import pandas as pd\n",
    "import mpld3\n",
    "from mpld3 import plugins\n",
    "np.random.seed(9615)"
   ]
  },
  {
   "cell_type": "code",
   "execution_count": 42,
   "id": "weekly-delicious",
   "metadata": {},
   "outputs": [],
   "source": [
    "#Inputs\n",
    "\n",
    "Initial_Number_Users=10000\n",
    "Final_Number_Users=100000\n",
    "Avg_Nb_Transaction=100000\n",
    "Avg_Amount_Transaction=100"
   ]
  },
  {
   "cell_type": "code",
   "execution_count": 43,
   "id": "recorded-advantage",
   "metadata": {},
   "outputs": [],
   "source": [
    "#Variables\n",
    "\n",
    "Tranaction_fee=0.01 #1%\n",
    "Defi_prop=0.5       #50%"
   ]
  },
  {
   "cell_type": "code",
   "execution_count": null,
   "id": "legal-ethics",
   "metadata": {},
   "outputs": [],
   "source": [
    "#Hypothesis\n",
    "\n",
    "defi_return = 0.07  #7%\n",
    "fund_return = 0.15  #15% = multiple of invested capital of 2.5 in 10 years"
   ]
  },
  {
   "cell_type": "code",
   "execution_count": 44,
   "id": "closed-drove",
   "metadata": {},
   "outputs": [],
   "source": [
    "days = np.linspace(1, 3650, 3650)\n",
    "days_sigmoid = np.linspace(-10, 10, 3650)\n",
    "sigmoid = 1/(1 + np.exp(-days_sigmoid))\n",
    "Number_Users = Initial_Number_Users + Final_Number_Users*sigmoid"
   ]
  },
  {
   "cell_type": "code",
   "execution_count": 45,
   "id": "hairy-bread",
   "metadata": {},
   "outputs": [
    {
     "data": {
      "text/plain": [
       "Text(0, 0.5, 'Number of Users')"
      ]
     },
     "execution_count": 45,
     "metadata": {},
     "output_type": "execute_result"
    },
    {
     "data": {
      "image/png": "[encoded data removed]",
      "text/plain": [
       "<Figure size 432x288 with 1 Axes>"
      ]
     },
     "metadata": {
      "needs_background": "light"
     },
     "output_type": "display_data"
    }
   ],
   "source": [
    "plt.plot(days,Number_Users)\n",
    "plt.xlabel(\"Days\")\n",
    "plt.ylabel(\"Number of Users\")"
   ]
  },
  {
   "cell_type": "code",
   "execution_count": 47,
   "id": "controversial-latino",
   "metadata": {},
   "outputs": [],
   "source": [
    "Amount=Number_Users*Avg_Nb_Transaction*Avg_Amount_Transaction\n",
    "Defi_inv=Amount*Defi_prop\n",
    "Fund_inv=Amount*(1-Defi_prop)"
   ]
  },
  {
   "cell_type": "code",
   "execution_count": 49,
   "id": "olympic-sentence",
   "metadata": {},
   "outputs": [],
   "source": [
    "Delta_Defi_inv=np.concatenate((np.array([0]),np.diff(Defi_inv)))\n",
    "defi_return_amount=Defi_inv*defi_return/365\n"
   ]
  }
 ],
 "metadata": {
  "kernelspec": {
   "display_name": "DSFB",
   "language": "python",
   "name": "dsfb"
  },
  "language_info": {
   "codemirror_mode": {
    "name": "ipython",
    "version": 3
   },
   "file_extension": ".py",
   "mimetype": "text/x-python",
   "name": "python",
   "nbconvert_exporter": "python",
   "pygments_lexer": "ipython3",
   "version": "3.6.9"
  }
 },
 "nbformat": 4,
 "nbformat_minor": 5
}
